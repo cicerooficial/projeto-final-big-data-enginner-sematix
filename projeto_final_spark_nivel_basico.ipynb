{
 "cells": [
  {
   "cell_type": "markdown",
   "metadata": {},
   "source": [
    "# Projeto Final de Spark - Nível Básico\n",
    "\n",
    "## Otimizar todos os dados do hdfs para uma tabela Hive particionada por município"
   ]
  },
  {
   "cell_type": "code",
   "execution_count": 35,
   "metadata": {},
   "outputs": [
    {
     "ename": "ModuleNotFoundError",
     "evalue": "No module named 'org'",
     "output_type": "error",
     "traceback": [
      "\u001b[0;31m---------------------------------------------------------------------------\u001b[0m",
      "\u001b[0;31mModuleNotFoundError\u001b[0m                       Traceback (most recent call last)",
      "\u001b[0;32m<ipython-input-35-f73f371da45a>\u001b[0m in \u001b[0;36m<module>\u001b[0;34m()\u001b[0m\n\u001b[1;32m      3\u001b[0m \u001b[0;32mfrom\u001b[0m \u001b[0mpyspark\u001b[0m\u001b[0;34m.\u001b[0m\u001b[0msql\u001b[0m\u001b[0;34m.\u001b[0m\u001b[0mtypes\u001b[0m \u001b[0;32mimport\u001b[0m \u001b[0;34m*\u001b[0m\u001b[0;34m\u001b[0m\u001b[0;34m\u001b[0m\u001b[0m\n\u001b[1;32m      4\u001b[0m \u001b[0;32mfrom\u001b[0m \u001b[0mpyspark\u001b[0m\u001b[0;34m.\u001b[0m\u001b[0msql\u001b[0m \u001b[0;32mimport\u001b[0m \u001b[0mfunctions\u001b[0m \u001b[0;32mas\u001b[0m \u001b[0mfunctions\u001b[0m\u001b[0;34m\u001b[0m\u001b[0;34m\u001b[0m\u001b[0m\n\u001b[0;32m----> 5\u001b[0;31m \u001b[0;32mimport\u001b[0m \u001b[0morg\u001b[0m\u001b[0;34m.\u001b[0m\u001b[0mapache\u001b[0m\u001b[0;34m.\u001b[0m\u001b[0mspark\u001b[0m\u001b[0;34m.\u001b[0m\u001b[0msql\u001b[0m\u001b[0;34m.\u001b[0m\u001b[0mSparkSession\u001b[0m\u001b[0;34m\u001b[0m\u001b[0;34m\u001b[0m\u001b[0m\n\u001b[0m",
      "\u001b[0;31mModuleNotFoundError\u001b[0m: No module named 'org'"
     ]
    }
   ],
   "source": [
    "#Importe as bibliotecas necessárias\n",
    "from pyspark.sql import *\n",
    "from pyspark.sql.types import *\n",
    "from pyspark.sql import functions as functions\n",
    "import org.apache.spark.sql.SparkSession"
   ]
  },
  {
   "cell_type": "code",
   "execution_count": 2,
   "metadata": {},
   "outputs": [
    {
     "name": "stdout",
     "output_type": "stream",
     "text": [
      "Found 4 items\r\n",
      "-rw-r--r--   3 root supergroup   62492959 2021-11-08 22:43 hdfs:///user/cicero/projeto-final-spark/HIST_PAINEL_COVIDBR_2020_Parte1_06jul2021.csv\r\n",
      "-rw-r--r--   3 root supergroup   76520681 2021-11-08 22:43 hdfs:///user/cicero/projeto-final-spark/HIST_PAINEL_COVIDBR_2020_Parte2_06jul2021.csv\r\n",
      "-rw-r--r--   3 root supergroup   91120916 2021-11-08 22:43 hdfs:///user/cicero/projeto-final-spark/HIST_PAINEL_COVIDBR_2021_Parte1_06jul2021.csv\r\n",
      "-rw-r--r--   3 root supergroup    3046774 2021-11-08 22:43 hdfs:///user/cicero/projeto-final-spark/HIST_PAINEL_COVIDBR_2021_Parte2_06jul2021.csv\r\n"
     ]
    }
   ],
   "source": [
    "#Acesse os arquivos pelo HDFS\n",
    "!hdfs dfs -ls \"hdfs:///user/cicero/projeto-final-spark/\""
   ]
  },
  {
   "cell_type": "code",
   "execution_count": 4,
   "metadata": {},
   "outputs": [
    {
     "data": {
      "text/plain": [
       "'regiao;estado;municipio;coduf;codmun;codRegiaoSaude;nomeRegiaoSaude;data;semanaEpi;populacaoTCU2019;casosAcumulado;casosNovos;obitosAcumulado;obitosNovos;Recuperadosnovos;emAcompanhamentoNovos;interior/metropolitana'"
      ]
     },
     "execution_count": 4,
     "metadata": {},
     "output_type": "execute_result"
    }
   ],
   "source": [
    "#Acessar os arquivos e mostrar a primeira linha \n",
    "rdd = sc.textFile(\"hdfs:///user/cicero/projeto-final-spark/\")\n",
    "rdd.first()"
   ]
  },
  {
   "cell_type": "code",
   "execution_count": 5,
   "metadata": {
    "scrolled": false
   },
   "outputs": [
    {
     "data": {
      "text/plain": [
       "['regiao;estado;municipio;coduf;codmun;codRegiaoSaude;nomeRegiaoSaude;data;semanaEpi;populacaoTCU2019;casosAcumulado;casosNovos;obitosAcumulado;obitosNovos;Recuperadosnovos;emAcompanhamentoNovos;interior/metropolitana',\n",
       " 'Brasil;;;76;;;;2020-02-25;9;210147125;0;0;0;0;;;',\n",
       " 'Brasil;;;76;;;;2020-02-26;9;210147125;1;1;0;0;;;',\n",
       " 'Brasil;;;76;;;;2020-02-27;9;210147125;1;0;0;0;;;',\n",
       " 'Brasil;;;76;;;;2020-02-28;9;210147125;1;0;0;0;;;',\n",
       " 'Brasil;;;76;;;;2020-02-29;9;210147125;2;1;0;0;;;',\n",
       " 'Brasil;;;76;;;;2020-03-01;10;210147125;2;0;0;0;;;',\n",
       " 'Brasil;;;76;;;;2020-03-02;10;210147125;2;0;0;0;;;',\n",
       " 'Brasil;;;76;;;;2020-03-03;10;210147125;2;0;0;0;;;',\n",
       " 'Brasil;;;76;;;;2020-03-04;10;210147125;3;1;0;0;;;',\n",
       " 'Brasil;;;76;;;;2020-03-05;10;210147125;7;4;0;0;;;',\n",
       " 'Brasil;;;76;;;;2020-03-06;10;210147125;13;6;0;0;;;',\n",
       " 'Brasil;;;76;;;;2020-03-07;10;210147125;19;6;0;0;;;',\n",
       " 'Brasil;;;76;;;;2020-03-08;11;210147125;25;6;0;0;;;',\n",
       " 'Brasil;;;76;;;;2020-03-09;11;210147125;25;0;0;0;;;',\n",
       " 'Brasil;;;76;;;;2020-03-10;11;210147125;34;9;0;0;;;',\n",
       " 'Brasil;;;76;;;;2020-03-11;11;210147125;52;18;0;0;;;',\n",
       " 'Brasil;;;76;;;;2020-03-12;11;210147125;77;25;0;0;;;',\n",
       " 'Brasil;;;76;;;;2020-03-13;11;210147125;98;21;0;0;;;',\n",
       " 'Brasil;;;76;;;;2020-03-14;11;210147125;121;23;0;0;;;',\n",
       " 'Brasil;;;76;;;;2020-03-15;12;210147125;200;79;0;0;;;',\n",
       " 'Brasil;;;76;;;;2020-03-16;12;210147125;234;34;0;0;;;',\n",
       " 'Brasil;;;76;;;;2020-03-17;12;210147125;291;57;1;1;;;',\n",
       " 'Brasil;;;76;;;;2020-03-18;12;210147125;428;137;4;3;;;',\n",
       " 'Brasil;;;76;;;;2020-03-19;12;210147125;621;193;6;2;;;',\n",
       " 'Brasil;;;76;;;;2020-03-20;12;210147125;904;283;11;5;;;',\n",
       " 'Brasil;;;76;;;;2020-03-21;12;210147125;1128;224;18;7;;;',\n",
       " 'Brasil;;;76;;;;2020-03-22;13;210147125;1546;418;25;7;;;',\n",
       " 'Brasil;;;76;;;;2020-03-23;13;210147125;1891;345;34;9;;;',\n",
       " 'Brasil;;;76;;;;2020-03-24;13;210147125;2201;310;46;12;;;',\n",
       " 'Brasil;;;76;;;;2020-03-25;13;210147125;2433;232;57;11;;;',\n",
       " 'Brasil;;;76;;;;2020-03-26;13;210147125;2915;482;77;20;;;',\n",
       " 'Brasil;;;76;;;;2020-03-27;13;210147125;3417;502;92;15;;;',\n",
       " 'Brasil;;;76;;;;2020-03-28;13;210147125;3903;486;114;22;;;',\n",
       " 'Brasil;;;76;;;;2020-03-29;14;210147125;4256;353;136;22;;;',\n",
       " 'Brasil;;;76;;;;2020-03-30;14;210147125;4579;323;159;23;;;',\n",
       " 'Brasil;;;76;;;;2020-03-31;14;210147125;5717;1138;201;42;;;',\n",
       " 'Brasil;;;76;;;;2020-04-01;14;210147125;6834;1117;241;40;;;',\n",
       " 'Brasil;;;76;;;;2020-04-02;14;210147125;7910;1076;299;58;;;',\n",
       " 'Brasil;;;76;;;;2020-04-03;14;210147125;9056;1146;359;60;;;',\n",
       " 'Brasil;;;76;;;;2020-04-04;14;210147125;10278;1222;432;73;;;',\n",
       " 'Brasil;;;76;;;;2020-04-05;15;210147125;11130;852;486;54;;;',\n",
       " 'Brasil;;;76;;;;2020-04-06;15;210147125;12056;926;553;67;;;',\n",
       " 'Brasil;;;76;;;;2020-04-07;15;210147125;13717;1661;667;114;;;',\n",
       " 'Brasil;;;76;;;;2020-04-08;15;210147125;15927;2210;800;133;;;',\n",
       " 'Brasil;;;76;;;;2020-04-09;15;210147125;17857;1930;941;141;;;',\n",
       " 'Brasil;;;76;;;;2020-04-10;15;210147125;19638;1781;1056;115;;;',\n",
       " 'Brasil;;;76;;;;2020-04-11;15;210147125;20727;1089;1124;68;;;',\n",
       " 'Brasil;;;76;;;;2020-04-12;16;210147125;22169;1442;1223;99;;;',\n",
       " 'Brasil;;;76;;;;2020-04-13;16;210147125;23430;1261;1328;105;;;',\n",
       " 'Brasil;;;76;;;;2020-04-14;16;210147125;25262;1832;1532;204;;;',\n",
       " 'Brasil;;;76;;;;2020-04-15;16;210147125;28320;3058;1736;204;;;',\n",
       " 'Brasil;;;76;;;;2020-04-16;16;210147125;30425;2105;1924;188;;;',\n",
       " 'Brasil;;;76;;;;2020-04-17;16;210147125;33682;3257;2141;217;;;',\n",
       " 'Brasil;;;76;;;;2020-04-18;16;210147125;36599;2917;2347;206;;;',\n",
       " 'Brasil;;;76;;;;2020-04-19;17;210147125;38654;2055;2462;115;22130;14062;',\n",
       " 'Brasil;;;76;;;;2020-04-20;17;210147125;40581;1927;2575;113;22991;15015;',\n",
       " 'Brasil;;;76;;;;2020-04-21;17;210147125;43079;2498;2741;166;24325;16013;',\n",
       " 'Brasil;;;76;;;;2020-04-22;17;210147125;45757;2678;2906;165;25318;17533;',\n",
       " 'Brasil;;;76;;;;2020-04-23;17;210147125;49492;3735;3313;407;26573;19606;',\n",
       " 'Brasil;;;76;;;;2020-04-24;17;210147125;52995;3503;3670;357;27655;21670;',\n",
       " 'Brasil;;;76;;;;2020-04-25;17;210147125;58509;5514;4016;346;29160;25333;',\n",
       " 'Brasil;;;76;;;;2020-04-26;18;210147125;61888;3379;4205;189;30152;27531;',\n",
       " 'Brasil;;;76;;;;2020-04-27;18;210147125;66501;4613;4543;338;31142;30816;',\n",
       " 'Brasil;;;76;;;;2020-04-28;18;210147125;71886;5385;5017;474;32544;34325;',\n",
       " 'Brasil;;;76;;;;2020-04-29;18;210147125;78162;6276;5466;449;34132;38564;',\n",
       " 'Brasil;;;76;;;;2020-04-30;18;210147125;85380;7218;5901;435;35935;43544;',\n",
       " 'Brasil;;;76;;;;2020-05-01;18;210147125;91299;5919;6329;428;38039;47221;',\n",
       " 'Brasil;;;76;;;;2020-05-02;18;210147125;96396;5097;6724;395;40937;48872;',\n",
       " 'Brasil;;;76;;;;2020-05-03;19;210147125;101147;4751;7025;301;42991;51131;',\n",
       " 'Brasil;;;76;;;;2020-05-04;19;210147125;107780;6633;7321;296;45186;55273;',\n",
       " 'Brasil;;;76;;;;2020-05-05;19;210147125;114715;6935;7921;600;48221;58573;',\n",
       " 'Brasil;;;76;;;;2020-05-06;19;210147125;125218;10503;8535;614;51370;65312;',\n",
       " 'Brasil;;;76;;;;2020-05-07;19;210147125;135106;9888;9146;611;55350;70610;',\n",
       " 'Brasil;;;76;;;;2020-05-08;19;210147125;145328;10222;9895;749;59297;76134;',\n",
       " 'Brasil;;;76;;;;2020-05-09;19;210147125;155939;10611;10627;732;61685;83627;',\n",
       " 'Brasil;;;76;;;;2020-05-10;20;210147125;162699;6760;11123;496;64957;86619;',\n",
       " 'Brasil;;;76;;;;2020-05-11;20;210147125;168331;5632;11519;396;67384;89429;',\n",
       " 'Brasil;;;76;;;;2020-05-12;20;210147125;177589;9258;12400;881;72597;92593;',\n",
       " 'Brasil;;;76;;;;2020-05-13;20;210147125;188974;11385;13149;749;78424;97402;',\n",
       " 'Brasil;;;76;;;;2020-05-14;20;210147125;202918;13944;13993;844;79479;109446;',\n",
       " 'Brasil;;;76;;;;2020-05-15;20;210147125;218223;15305;14817;824;84970;118436;',\n",
       " 'Brasil;;;76;;;;2020-05-16;20;210147125;233142;14919;15633;816;89672;127837;',\n",
       " 'Brasil;;;76;;;;2020-05-17;21;210147125;241080;7938;16118;485;94122;130840;',\n",
       " 'Brasil;;;76;;;;2020-05-18;21;210147125;254220;13140;16792;674;100459;136969;',\n",
       " 'Brasil;;;76;;;;2020-05-19;21;210147125;271628;17408;17971;1179;106794;146863;',\n",
       " 'Brasil;;;76;;;;2020-05-20;21;210147125;291579;19951;18859;888;116683;156037;',\n",
       " 'Brasil;;;76;;;;2020-05-21;21;210147125;310087;18508;20047;1188;125960;164080;',\n",
       " 'Brasil;;;76;;;;2020-05-22;21;210147125;330890;20803;21046;999;135430;174412;',\n",
       " 'Brasil;;;76;;;;2020-05-23;21;210147125;347398;16508;22013;967;142587;182798;',\n",
       " 'Brasil;;;76;;;;2020-05-24;22;210147125;363211;15813;22666;653;149911;190634;',\n",
       " 'Brasil;;;76;;;;2020-05-25;22;210147125;374898;11687;23473;807;153833;197592;',\n",
       " 'Brasil;;;76;;;;2020-05-26;22;210147125;391222;16324;24512;1039;158593;208117;',\n",
       " 'Brasil;;;76;;;;2020-05-27;22;210147125;411821;20599;25598;1086;166647;219576;',\n",
       " 'Brasil;;;76;;;;2020-05-28;22;210147125;438238;26417;26754;1156;177604;233880;',\n",
       " 'Brasil;;;76;;;;2020-05-29;22;210147125;465166;26928;27878;1124;189476;247812;',\n",
       " 'Brasil;;;76;;;;2020-05-30;22;210147125;498440;33274;28834;956;200892;268714;',\n",
       " 'Brasil;;;76;;;;2020-05-31;23;210147125;514200;15760;29314;480;206555;278331;',\n",
       " 'Brasil;;;76;;;;2020-06-01;23;210147125;526447;12247;29937;623;211080;285430;',\n",
       " 'Brasil;;;76;;;;2020-06-02;23;210147125;555383;28936;31199;1262;223638;300546;']"
      ]
     },
     "execution_count": 5,
     "metadata": {},
     "output_type": "execute_result"
    }
   ],
   "source": [
    "#Mostrar as primieras linhas para entender os dados\n",
    "rdd.take(100)"
   ]
  },
  {
   "cell_type": "code",
   "execution_count": 6,
   "metadata": {},
   "outputs": [],
   "source": [
    "'''\n",
    "#Criar um Data Frame com Schema organizado.\n",
    "colunas_painel_covidbr = [ StructField(\"regiao\", StringType()),\n",
    "                          StructField(\"estado\", StringType()),\n",
    "                          StructField(\"municipio\", StringType()),\n",
    "                          StructField(\"coduf\", StringType()),\n",
    "                          StructField(\"codmun\", StringType()),\n",
    "                          StructField(\"codRegiaoSaude\", StringType()),\n",
    "                          StructField(\"nomeRegiaoSaude\", StringType()),\n",
    "                          StructField(\"data\", DateType()),\n",
    "                          StructField(\"semanaEpi\", StringType()),\n",
    "                          StructField(\"populacaoTCU2019\", IntegerType()),\n",
    "                          StructField(\"casosAcumulado\", IntegerType()),\n",
    "                          StructField(\"casosNovos\", IntegerType()),\n",
    "                          StructField(\"obitosAcumulado\", IntegerType()),\n",
    "                          StructField(\"obitosNovos\", IntegerType()),\n",
    "                          StructField(\"Recuperadosnovos\", IntegerType()),\n",
    "                          StructField(\"emAcompanhamentoNovos\", IntegerType()),\n",
    "                          StructField(\"interior/metropolitana\", IntegerType())]\n",
    "\n",
    "schema = StructType(colunas_painel_covidbr)\n",
    "df_painel_covidbr = spark.read.option(\"header\",\"true\").option(\"delimiter\",\";\").csv(\"hdfs:///user/cicero/projeto-final-spark/\")\n",
    "'''\n",
    "\n",
    "#Utilizando o option(\"inferSchema\",\"true\") para que automaticamente o spark identifique os tipos de dados das colunas\n",
    "df_painel_covidbr = spark.read.option(\"sep\",\";\").option(\"header\",\"true\").option(\"inferSchema\",\"true\").csv(\"hdfs:///user/cicero/projeto-final-spark/\")"
   ]
  },
  {
   "cell_type": "code",
   "execution_count": 10,
   "metadata": {},
   "outputs": [
    {
     "name": "stdout",
     "output_type": "stream",
     "text": [
      "root\n",
      " |-- regiao: string (nullable = true)\n",
      " |-- estado: string (nullable = true)\n",
      " |-- municipio: string (nullable = true)\n",
      " |-- coduf: integer (nullable = true)\n",
      " |-- codmun: integer (nullable = true)\n",
      " |-- codRegiaoSaude: integer (nullable = true)\n",
      " |-- nomeRegiaoSaude: string (nullable = true)\n",
      " |-- data: timestamp (nullable = true)\n",
      " |-- semanaEpi: integer (nullable = true)\n",
      " |-- populacaoTCU2019: integer (nullable = true)\n",
      " |-- casosAcumulado: decimal(10,0) (nullable = true)\n",
      " |-- casosNovos: integer (nullable = true)\n",
      " |-- obitosAcumulado: integer (nullable = true)\n",
      " |-- obitosNovos: integer (nullable = true)\n",
      " |-- Recuperadosnovos: integer (nullable = true)\n",
      " |-- emAcompanhamentoNovos: integer (nullable = true)\n",
      " |-- interior/metropolitana: integer (nullable = true)\n",
      "\n"
     ]
    }
   ],
   "source": [
    "#Visualize o schema\n",
    "df_painel_covidbr.printSchema()\n",
    "\n",
    "#Visualizar a primeira linha\n",
    "#df_painel_covidbr.head()"
   ]
  },
  {
   "cell_type": "code",
   "execution_count": 11,
   "metadata": {},
   "outputs": [
    {
     "name": "stdout",
     "output_type": "stream",
     "text": [
      "-RECORD 0-------------------------------------\n",
      " regiao                 | Brasil              \n",
      " estado                 | null                \n",
      " municipio              | null                \n",
      " coduf                  | 76                  \n",
      " codmun                 | null                \n",
      " codRegiaoSaude         | null                \n",
      " nomeRegiaoSaude        | null                \n",
      " data                   | 2020-02-25 00:00:00 \n",
      " semanaEpi              | 9                   \n",
      " populacaoTCU2019       | 210147125           \n",
      " casosAcumulado         | 0                   \n",
      " casosNovos             | 0                   \n",
      " obitosAcumulado        | 0                   \n",
      " obitosNovos            | 0                   \n",
      " Recuperadosnovos       | null                \n",
      " emAcompanhamentoNovos  | null                \n",
      " interior/metropolitana | null                \n",
      "-RECORD 1-------------------------------------\n",
      " regiao                 | Brasil              \n",
      " estado                 | null                \n",
      " municipio              | null                \n",
      " coduf                  | 76                  \n",
      " codmun                 | null                \n",
      " codRegiaoSaude         | null                \n",
      " nomeRegiaoSaude        | null                \n",
      " data                   | 2020-02-26 00:00:00 \n",
      " semanaEpi              | 9                   \n",
      " populacaoTCU2019       | 210147125           \n",
      " casosAcumulado         | 1                   \n",
      " casosNovos             | 1                   \n",
      " obitosAcumulado        | 0                   \n",
      " obitosNovos            | 0                   \n",
      " Recuperadosnovos       | null                \n",
      " emAcompanhamentoNovos  | null                \n",
      " interior/metropolitana | null                \n",
      "-RECORD 2-------------------------------------\n",
      " regiao                 | Brasil              \n",
      " estado                 | null                \n",
      " municipio              | null                \n",
      " coduf                  | 76                  \n",
      " codmun                 | null                \n",
      " codRegiaoSaude         | null                \n",
      " nomeRegiaoSaude        | null                \n",
      " data                   | 2020-02-27 00:00:00 \n",
      " semanaEpi              | 9                   \n",
      " populacaoTCU2019       | 210147125           \n",
      " casosAcumulado         | 1                   \n",
      " casosNovos             | 0                   \n",
      " obitosAcumulado        | 0                   \n",
      " obitosNovos            | 0                   \n",
      " Recuperadosnovos       | null                \n",
      " emAcompanhamentoNovos  | null                \n",
      " interior/metropolitana | null                \n",
      "only showing top 3 rows\n",
      "\n"
     ]
    }
   ],
   "source": [
    "#Visualizar dados na vertical para melhor entendimento\n",
    "df_painel_covidbr.show(3, vertical=True)"
   ]
  },
  {
   "cell_type": "code",
   "execution_count": 15,
   "metadata": {},
   "outputs": [],
   "source": [
    "# Ajustando os dados e removendo informações desnecessárias que são diárias. Ex: Hora\n",
    "df_painel_covidbr_limpo = df_painel_covidbr.withColumn('data', functions.from_unixtime(functions.unix_timestamp(df_painel_covidbr.data), 'yyyy-MM-dd'))"
   ]
  },
  {
   "cell_type": "code",
   "execution_count": 16,
   "metadata": {},
   "outputs": [
    {
     "name": "stdout",
     "output_type": "stream",
     "text": [
      "-RECORD 0----------------------------\n",
      " regiao                 | Brasil     \n",
      " estado                 | null       \n",
      " municipio              | null       \n",
      " coduf                  | 76         \n",
      " codmun                 | null       \n",
      " codRegiaoSaude         | null       \n",
      " nomeRegiaoSaude        | null       \n",
      " data                   | 2020-02-25 \n",
      " semanaEpi              | 9          \n",
      " populacaoTCU2019       | 210147125  \n",
      " casosAcumulado         | 0          \n",
      " casosNovos             | 0          \n",
      " obitosAcumulado        | 0          \n",
      " obitosNovos            | 0          \n",
      " Recuperadosnovos       | null       \n",
      " emAcompanhamentoNovos  | null       \n",
      " interior/metropolitana | null       \n",
      "-RECORD 1----------------------------\n",
      " regiao                 | Brasil     \n",
      " estado                 | null       \n",
      " municipio              | null       \n",
      " coduf                  | 76         \n",
      " codmun                 | null       \n",
      " codRegiaoSaude         | null       \n",
      " nomeRegiaoSaude        | null       \n",
      " data                   | 2020-02-26 \n",
      " semanaEpi              | 9          \n",
      " populacaoTCU2019       | 210147125  \n",
      " casosAcumulado         | 1          \n",
      " casosNovos             | 1          \n",
      " obitosAcumulado        | 0          \n",
      " obitosNovos            | 0          \n",
      " Recuperadosnovos       | null       \n",
      " emAcompanhamentoNovos  | null       \n",
      " interior/metropolitana | null       \n",
      "-RECORD 2----------------------------\n",
      " regiao                 | Brasil     \n",
      " estado                 | null       \n",
      " municipio              | null       \n",
      " coduf                  | 76         \n",
      " codmun                 | null       \n",
      " codRegiaoSaude         | null       \n",
      " nomeRegiaoSaude        | null       \n",
      " data                   | 2020-02-27 \n",
      " semanaEpi              | 9          \n",
      " populacaoTCU2019       | 210147125  \n",
      " casosAcumulado         | 1          \n",
      " casosNovos             | 0          \n",
      " obitosAcumulado        | 0          \n",
      " obitosNovos            | 0          \n",
      " Recuperadosnovos       | null       \n",
      " emAcompanhamentoNovos  | null       \n",
      " interior/metropolitana | null       \n",
      "only showing top 3 rows\n",
      "\n"
     ]
    }
   ],
   "source": [
    "#Mostrando o novo dataframe com o campo data ajustado\n",
    "df_painel_covidbr_limpo.show(3, vertical=True)"
   ]
  },
  {
   "cell_type": "code",
   "execution_count": null,
   "metadata": {},
   "outputs": [],
   "source": [
    "#Inserindo os dados no Apache Hive e separando os dados por municípios\n",
    "# write.mode - Sobrescreve o diretório de saída. \n",
    "# saveAsTable - Por padrão, se não especificado, ele salva como arquivo Hive no caminho /user/hive/warehouse/\n",
    "# partitionBy - É usado para particionar o grande conjunto de dados (DataFrame)...\n",
    "# (...) em arquivos menores com base em uma ou várias colunas durante a gravação no disco.\n",
    "\n",
    "df_painel_covidbr_limpo.write.mode('overwrite').partitionBy('municipio').saveAsTable('covidbr.municipio')"
   ]
  },
  {
   "cell_type": "code",
   "execution_count": null,
   "metadata": {},
   "outputs": [],
   "source": [
    "#Verificando se a tabela Hive está no diretório\n",
    "!hdfs dfs -ls /user/hive/warehouse/covidbr"
   ]
  },
  {
   "cell_type": "code",
   "execution_count": null,
   "metadata": {},
   "outputs": [],
   "source": [
    "#Visualizando a tabela Hive"
   ]
  },
  {
   "cell_type": "markdown",
   "metadata": {},
   "source": [
    "## Criar as 3 visualizações pelo Spark com os dados enviados para o HDFS "
   ]
  },
  {
   "cell_type": "code",
   "execution_count": null,
   "metadata": {},
   "outputs": [],
   "source": [
    "#Visualização 1 - Casos Recuperados\n",
    "\n",
    "#Visualização 2 - Casos confirmados\n",
    "\n",
    "#Visualização 3 - Óbitos Confirmados\n"
   ]
  },
  {
   "cell_type": "markdown",
   "metadata": {},
   "source": [
    "## Salvar a primeira visualização como tabela Hive"
   ]
  },
  {
   "cell_type": "code",
   "execution_count": null,
   "metadata": {},
   "outputs": [],
   "source": []
  },
  {
   "cell_type": "markdown",
   "metadata": {},
   "source": [
    "## Salvar a segunda visualização com formato parquet e compressão snappy"
   ]
  },
  {
   "cell_type": "code",
   "execution_count": null,
   "metadata": {},
   "outputs": [],
   "source": []
  },
  {
   "cell_type": "markdown",
   "metadata": {},
   "source": [
    "## Salvar a terceira visualização em um tópico no Kafka"
   ]
  },
  {
   "cell_type": "code",
   "execution_count": null,
   "metadata": {},
   "outputs": [],
   "source": []
  },
  {
   "cell_type": "markdown",
   "metadata": {},
   "source": [
    "## Criar a visualização pelo Spark com os dados enviados para o HDFS"
   ]
  },
  {
   "cell_type": "code",
   "execution_count": null,
   "metadata": {},
   "outputs": [],
   "source": []
  }
 ],
 "metadata": {
  "kernelspec": {
   "display_name": "PySpark",
   "language": "python",
   "name": "pyspark"
  },
  "language_info": {
   "codemirror_mode": {
    "name": "ipython",
    "version": 3
   },
   "file_extension": ".py",
   "mimetype": "text/x-python",
   "name": "python",
   "nbconvert_exporter": "python",
   "pygments_lexer": "ipython3",
   "version": "3.6.10"
  }
 },
 "nbformat": 4,
 "nbformat_minor": 2
}
