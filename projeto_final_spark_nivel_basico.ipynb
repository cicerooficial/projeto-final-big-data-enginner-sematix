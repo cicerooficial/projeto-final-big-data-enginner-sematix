{
 "cells": [
  {
   "cell_type": "markdown",
   "metadata": {},
   "source": [
    "# Preparando o ambiente\n",
    "\n",
    "⚠Download Docker - Windows\n",
    "\n",
    "- ⚠[Docker](https://docs.docker.com/get-docker/)\n",
    "- ⚠[Docker Compose](https://docs.docker.com/compose/install/)\n",
    "\n",
    "⚠Instalação Docker - Windows\n",
    "\n",
    "- [Link de Atualização Windows 10 (20.04)](https://www.microsoft.com/pt-br/software-download/windows10)\n",
    "- [Link para instalação do Docker Desktop no **Windows**](https://hub.docker.com/editions/community/docker-ce-desktop-windows)\n",
    "- [Download WSL 2](https://wslstorestorage.blob.core.windows.net/wslblob/wsl_update_x64.msi)\n",
    "\n",
    "#### Pelo terminal do WSL2, crie um diretório para o projeto\n",
    "$ mkdir projeto-final-spark\n",
    "\n",
    "#### Acesse o diretório\n",
    "$cd projeto-final-spark\n",
    "\n",
    "\n",
    "#### No diretório spark, clone o projeto: \n",
    "$ git clone https://github.com/rodrigo-reboucas/docker-bigdata.git spark\n",
    "\n",
    "#### Confirme se o arquivo foi baixado\n",
    "$ ls\n",
    "\n",
    "\n",
    "#### Entra na pasta spark e baixe as imagens: \n",
    "\n",
    "$ cd spark\n",
    "\n",
    "$ docker-compose -f docker-compose-parcial.yml pull\n",
    "\n",
    "#### Verifique se as imagens estão sendo listadas\n",
    "$ docker image ls\n",
    "\n",
    "\n",
    "------"
   ]
  },
  {
   "cell_type": "markdown",
   "metadata": {},
   "source": [
    "# Enviar os dados para o HDFS"
   ]
  },
  {
   "cell_type": "markdown",
   "metadata": {},
   "source": [
    "#### Pelo terminal do WSL2, dentro da pasta spark, baixe o arquivo de dados .rar dentro da pasta spark:\n",
    "$ curl -O https://mobileapps.saude.gov.br/esus-vepi/files/unAFkcaNDeXajurGB7LChj8SgQYS2ptm/04bd3419b22b9cc5c6efac2c6528100d_HIST_PAINEL_COVIDBR_06jul2021.rar"
   ]
  },
  {
   "cell_type": "markdown",
   "metadata": {},
   "source": [
    "#### Instale o unrar para descompactar o arquivo .rar \n",
    "$ sudo apt install unrar"
   ]
  },
  {
   "cell_type": "markdown",
   "metadata": {},
   "source": [
    "#### Descompacte o arquivo .rar \n",
    "$ unrar x 04bd3419b22b9cc5c6efac2c6528100d_HIST_PAINEL_COVIDBR_06jul2021.rar"
   ]
  },
  {
   "cell_type": "markdown",
   "metadata": {},
   "source": [
    "#### Crie um diretório input dentro da pasta spark\n",
    "$ mkdir input"
   ]
  },
  {
   "cell_type": "markdown",
   "metadata": {},
   "source": [
    "#### Enviar os arquivos .csv para a pasta input\n",
    "$ sudo mv *.csv /home/cicero/projeto-final-spark/spark/input"
   ]
  },
  {
   "cell_type": "markdown",
   "metadata": {},
   "source": [
    "#### Inicie todos os serviços\n",
    "$ docker-compose -f docker-compose-parcial.yml up -d"
   ]
  },
  {
   "cell_type": "markdown",
   "metadata": {},
   "source": [
    "#### Entre no namenode\n",
    "$ docker exec -it namenode bash"
   ]
  },
  {
   "cell_type": "markdown",
   "metadata": {},
   "source": [
    "#### Crie a pasta projeto-final-spark no HDFS para salvar os arquivos de dados .CSV\n",
    "$ hdfs dfs -mkdir -p /user/cicero/projeto-final-spark"
   ]
  },
  {
   "cell_type": "markdown",
   "metadata": {},
   "source": [
    "#### Envie oo arquivos de dados .CSV para a pasta projeto-final-spark no HDFS\n",
    "$ hdfs dfs -put /input/*.csv /user/cicero/projeto-final-spark"
   ]
  },
  {
   "cell_type": "markdown",
   "metadata": {},
   "source": [
    "#### Confirme se os arquivos foram enviados\n",
    "$ hdfs dfs -ls /user/cicero/projeto-final-spark"
   ]
  },
  {
   "cell_type": "markdown",
   "metadata": {},
   "source": [
    "------\n",
    "#### Pelo navegador acesso o jupyter-notebook\n",
    "$ http://localhost:8889/\n",
    "\n",
    "##### ⚠ Obs.: Depois crie um arquivo chamado projeto_final_spark_nivel_basico, este que seguiremos com os próximos passos de agora em diante.\n",
    "------"
   ]
  },
  {
   "cell_type": "markdown",
   "metadata": {},
   "source": [
    "# Otimizar todos os dados do hdfs para uma tabela Hive particionada por município"
   ]
  },
  {
   "cell_type": "code",
   "execution_count": 66,
   "metadata": {},
   "outputs": [],
   "source": [
    "#Importe as bibliotecas necessárias\n",
    "from pyspark.sql import *\n",
    "from pyspark.sql.types import *"
   ]
  },
  {
   "cell_type": "code",
   "execution_count": 67,
   "metadata": {},
   "outputs": [
    {
     "name": "stdout",
     "output_type": "stream",
     "text": [
      "Found 4 items\r\n",
      "-rw-r--r--   3 root supergroup   62492959 2021-11-08 22:43 hdfs:///user/cicero/projeto-final-spark/HIST_PAINEL_COVIDBR_2020_Parte1_06jul2021.csv\r\n",
      "-rw-r--r--   3 root supergroup   76520681 2021-11-08 22:43 hdfs:///user/cicero/projeto-final-spark/HIST_PAINEL_COVIDBR_2020_Parte2_06jul2021.csv\r\n",
      "-rw-r--r--   3 root supergroup   91120916 2021-11-08 22:43 hdfs:///user/cicero/projeto-final-spark/HIST_PAINEL_COVIDBR_2021_Parte1_06jul2021.csv\r\n",
      "-rw-r--r--   3 root supergroup    3046774 2021-11-08 22:43 hdfs:///user/cicero/projeto-final-spark/HIST_PAINEL_COVIDBR_2021_Parte2_06jul2021.csv\r\n"
     ]
    }
   ],
   "source": [
    "#Acesse os arquivos pelo HDFS\n",
    "!hdfs dfs -ls \"hdfs:///user/cicero/projeto-final-spark/\""
   ]
  },
  {
   "cell_type": "code",
   "execution_count": 68,
   "metadata": {},
   "outputs": [
    {
     "data": {
      "text/plain": [
       "'regiao;estado;municipio;coduf;codmun;codRegiaoSaude;nomeRegiaoSaude;data;semanaEpi;populacaoTCU2019;casosAcumulado;casosNovos;obitosAcumulado;obitosNovos;Recuperadosnovos;emAcompanhamentoNovos;interior/metropolitana'"
      ]
     },
     "execution_count": 68,
     "metadata": {},
     "output_type": "execute_result"
    }
   ],
   "source": [
    "#Acessar os arquivos e mostrar a primeira linha \n",
    "rdd = sc.textFile(\"hdfs:///user/cicero/projeto-final-spark/\")\n",
    "rdd.first()"
   ]
  },
  {
   "cell_type": "code",
   "execution_count": 69,
   "metadata": {},
   "outputs": [
    {
     "data": {
      "text/plain": [
       "['regiao;estado;municipio;coduf;codmun;codRegiaoSaude;nomeRegiaoSaude;data;semanaEpi;populacaoTCU2019;casosAcumulado;casosNovos;obitosAcumulado;obitosNovos;Recuperadosnovos;emAcompanhamentoNovos;interior/metropolitana',\n",
       " 'Brasil;;;76;;;;2020-02-25;9;210147125;0;0;0;0;;;',\n",
       " 'Brasil;;;76;;;;2020-02-26;9;210147125;1;1;0;0;;;',\n",
       " 'Brasil;;;76;;;;2020-02-27;9;210147125;1;0;0;0;;;',\n",
       " 'Brasil;;;76;;;;2020-02-28;9;210147125;1;0;0;0;;;',\n",
       " 'Brasil;;;76;;;;2020-02-29;9;210147125;2;1;0;0;;;',\n",
       " 'Brasil;;;76;;;;2020-03-01;10;210147125;2;0;0;0;;;',\n",
       " 'Brasil;;;76;;;;2020-03-02;10;210147125;2;0;0;0;;;',\n",
       " 'Brasil;;;76;;;;2020-03-03;10;210147125;2;0;0;0;;;',\n",
       " 'Brasil;;;76;;;;2020-03-04;10;210147125;3;1;0;0;;;',\n",
       " 'Brasil;;;76;;;;2020-03-05;10;210147125;7;4;0;0;;;',\n",
       " 'Brasil;;;76;;;;2020-03-06;10;210147125;13;6;0;0;;;',\n",
       " 'Brasil;;;76;;;;2020-03-07;10;210147125;19;6;0;0;;;',\n",
       " 'Brasil;;;76;;;;2020-03-08;11;210147125;25;6;0;0;;;',\n",
       " 'Brasil;;;76;;;;2020-03-09;11;210147125;25;0;0;0;;;',\n",
       " 'Brasil;;;76;;;;2020-03-10;11;210147125;34;9;0;0;;;',\n",
       " 'Brasil;;;76;;;;2020-03-11;11;210147125;52;18;0;0;;;',\n",
       " 'Brasil;;;76;;;;2020-03-12;11;210147125;77;25;0;0;;;',\n",
       " 'Brasil;;;76;;;;2020-03-13;11;210147125;98;21;0;0;;;',\n",
       " 'Brasil;;;76;;;;2020-03-14;11;210147125;121;23;0;0;;;',\n",
       " 'Brasil;;;76;;;;2020-03-15;12;210147125;200;79;0;0;;;',\n",
       " 'Brasil;;;76;;;;2020-03-16;12;210147125;234;34;0;0;;;',\n",
       " 'Brasil;;;76;;;;2020-03-17;12;210147125;291;57;1;1;;;',\n",
       " 'Brasil;;;76;;;;2020-03-18;12;210147125;428;137;4;3;;;',\n",
       " 'Brasil;;;76;;;;2020-03-19;12;210147125;621;193;6;2;;;',\n",
       " 'Brasil;;;76;;;;2020-03-20;12;210147125;904;283;11;5;;;',\n",
       " 'Brasil;;;76;;;;2020-03-21;12;210147125;1128;224;18;7;;;',\n",
       " 'Brasil;;;76;;;;2020-03-22;13;210147125;1546;418;25;7;;;',\n",
       " 'Brasil;;;76;;;;2020-03-23;13;210147125;1891;345;34;9;;;',\n",
       " 'Brasil;;;76;;;;2020-03-24;13;210147125;2201;310;46;12;;;',\n",
       " 'Brasil;;;76;;;;2020-03-25;13;210147125;2433;232;57;11;;;',\n",
       " 'Brasil;;;76;;;;2020-03-26;13;210147125;2915;482;77;20;;;',\n",
       " 'Brasil;;;76;;;;2020-03-27;13;210147125;3417;502;92;15;;;',\n",
       " 'Brasil;;;76;;;;2020-03-28;13;210147125;3903;486;114;22;;;',\n",
       " 'Brasil;;;76;;;;2020-03-29;14;210147125;4256;353;136;22;;;',\n",
       " 'Brasil;;;76;;;;2020-03-30;14;210147125;4579;323;159;23;;;',\n",
       " 'Brasil;;;76;;;;2020-03-31;14;210147125;5717;1138;201;42;;;',\n",
       " 'Brasil;;;76;;;;2020-04-01;14;210147125;6834;1117;241;40;;;',\n",
       " 'Brasil;;;76;;;;2020-04-02;14;210147125;7910;1076;299;58;;;',\n",
       " 'Brasil;;;76;;;;2020-04-03;14;210147125;9056;1146;359;60;;;',\n",
       " 'Brasil;;;76;;;;2020-04-04;14;210147125;10278;1222;432;73;;;',\n",
       " 'Brasil;;;76;;;;2020-04-05;15;210147125;11130;852;486;54;;;',\n",
       " 'Brasil;;;76;;;;2020-04-06;15;210147125;12056;926;553;67;;;',\n",
       " 'Brasil;;;76;;;;2020-04-07;15;210147125;13717;1661;667;114;;;',\n",
       " 'Brasil;;;76;;;;2020-04-08;15;210147125;15927;2210;800;133;;;',\n",
       " 'Brasil;;;76;;;;2020-04-09;15;210147125;17857;1930;941;141;;;',\n",
       " 'Brasil;;;76;;;;2020-04-10;15;210147125;19638;1781;1056;115;;;',\n",
       " 'Brasil;;;76;;;;2020-04-11;15;210147125;20727;1089;1124;68;;;',\n",
       " 'Brasil;;;76;;;;2020-04-12;16;210147125;22169;1442;1223;99;;;',\n",
       " 'Brasil;;;76;;;;2020-04-13;16;210147125;23430;1261;1328;105;;;',\n",
       " 'Brasil;;;76;;;;2020-04-14;16;210147125;25262;1832;1532;204;;;',\n",
       " 'Brasil;;;76;;;;2020-04-15;16;210147125;28320;3058;1736;204;;;',\n",
       " 'Brasil;;;76;;;;2020-04-16;16;210147125;30425;2105;1924;188;;;',\n",
       " 'Brasil;;;76;;;;2020-04-17;16;210147125;33682;3257;2141;217;;;',\n",
       " 'Brasil;;;76;;;;2020-04-18;16;210147125;36599;2917;2347;206;;;',\n",
       " 'Brasil;;;76;;;;2020-04-19;17;210147125;38654;2055;2462;115;22130;14062;',\n",
       " 'Brasil;;;76;;;;2020-04-20;17;210147125;40581;1927;2575;113;22991;15015;',\n",
       " 'Brasil;;;76;;;;2020-04-21;17;210147125;43079;2498;2741;166;24325;16013;',\n",
       " 'Brasil;;;76;;;;2020-04-22;17;210147125;45757;2678;2906;165;25318;17533;',\n",
       " 'Brasil;;;76;;;;2020-04-23;17;210147125;49492;3735;3313;407;26573;19606;',\n",
       " 'Brasil;;;76;;;;2020-04-24;17;210147125;52995;3503;3670;357;27655;21670;',\n",
       " 'Brasil;;;76;;;;2020-04-25;17;210147125;58509;5514;4016;346;29160;25333;',\n",
       " 'Brasil;;;76;;;;2020-04-26;18;210147125;61888;3379;4205;189;30152;27531;',\n",
       " 'Brasil;;;76;;;;2020-04-27;18;210147125;66501;4613;4543;338;31142;30816;',\n",
       " 'Brasil;;;76;;;;2020-04-28;18;210147125;71886;5385;5017;474;32544;34325;',\n",
       " 'Brasil;;;76;;;;2020-04-29;18;210147125;78162;6276;5466;449;34132;38564;',\n",
       " 'Brasil;;;76;;;;2020-04-30;18;210147125;85380;7218;5901;435;35935;43544;',\n",
       " 'Brasil;;;76;;;;2020-05-01;18;210147125;91299;5919;6329;428;38039;47221;',\n",
       " 'Brasil;;;76;;;;2020-05-02;18;210147125;96396;5097;6724;395;40937;48872;',\n",
       " 'Brasil;;;76;;;;2020-05-03;19;210147125;101147;4751;7025;301;42991;51131;',\n",
       " 'Brasil;;;76;;;;2020-05-04;19;210147125;107780;6633;7321;296;45186;55273;',\n",
       " 'Brasil;;;76;;;;2020-05-05;19;210147125;114715;6935;7921;600;48221;58573;',\n",
       " 'Brasil;;;76;;;;2020-05-06;19;210147125;125218;10503;8535;614;51370;65312;',\n",
       " 'Brasil;;;76;;;;2020-05-07;19;210147125;135106;9888;9146;611;55350;70610;',\n",
       " 'Brasil;;;76;;;;2020-05-08;19;210147125;145328;10222;9895;749;59297;76134;',\n",
       " 'Brasil;;;76;;;;2020-05-09;19;210147125;155939;10611;10627;732;61685;83627;',\n",
       " 'Brasil;;;76;;;;2020-05-10;20;210147125;162699;6760;11123;496;64957;86619;',\n",
       " 'Brasil;;;76;;;;2020-05-11;20;210147125;168331;5632;11519;396;67384;89429;',\n",
       " 'Brasil;;;76;;;;2020-05-12;20;210147125;177589;9258;12400;881;72597;92593;',\n",
       " 'Brasil;;;76;;;;2020-05-13;20;210147125;188974;11385;13149;749;78424;97402;',\n",
       " 'Brasil;;;76;;;;2020-05-14;20;210147125;202918;13944;13993;844;79479;109446;',\n",
       " 'Brasil;;;76;;;;2020-05-15;20;210147125;218223;15305;14817;824;84970;118436;',\n",
       " 'Brasil;;;76;;;;2020-05-16;20;210147125;233142;14919;15633;816;89672;127837;',\n",
       " 'Brasil;;;76;;;;2020-05-17;21;210147125;241080;7938;16118;485;94122;130840;',\n",
       " 'Brasil;;;76;;;;2020-05-18;21;210147125;254220;13140;16792;674;100459;136969;',\n",
       " 'Brasil;;;76;;;;2020-05-19;21;210147125;271628;17408;17971;1179;106794;146863;',\n",
       " 'Brasil;;;76;;;;2020-05-20;21;210147125;291579;19951;18859;888;116683;156037;',\n",
       " 'Brasil;;;76;;;;2020-05-21;21;210147125;310087;18508;20047;1188;125960;164080;',\n",
       " 'Brasil;;;76;;;;2020-05-22;21;210147125;330890;20803;21046;999;135430;174412;',\n",
       " 'Brasil;;;76;;;;2020-05-23;21;210147125;347398;16508;22013;967;142587;182798;',\n",
       " 'Brasil;;;76;;;;2020-05-24;22;210147125;363211;15813;22666;653;149911;190634;',\n",
       " 'Brasil;;;76;;;;2020-05-25;22;210147125;374898;11687;23473;807;153833;197592;',\n",
       " 'Brasil;;;76;;;;2020-05-26;22;210147125;391222;16324;24512;1039;158593;208117;',\n",
       " 'Brasil;;;76;;;;2020-05-27;22;210147125;411821;20599;25598;1086;166647;219576;',\n",
       " 'Brasil;;;76;;;;2020-05-28;22;210147125;438238;26417;26754;1156;177604;233880;',\n",
       " 'Brasil;;;76;;;;2020-05-29;22;210147125;465166;26928;27878;1124;189476;247812;',\n",
       " 'Brasil;;;76;;;;2020-05-30;22;210147125;498440;33274;28834;956;200892;268714;',\n",
       " 'Brasil;;;76;;;;2020-05-31;23;210147125;514200;15760;29314;480;206555;278331;',\n",
       " 'Brasil;;;76;;;;2020-06-01;23;210147125;526447;12247;29937;623;211080;285430;',\n",
       " 'Brasil;;;76;;;;2020-06-02;23;210147125;555383;28936;31199;1262;223638;300546;',\n",
       " 'Brasil;;;76;;;;2020-06-03;23;210147125;584016;28633;32548;1349;238617;312851;',\n",
       " 'Brasil;;;76;;;;2020-06-04;23;210147125;614941;30925;34021;1473;254963;325957;',\n",
       " 'Brasil;;;76;;;;2020-06-05;23;210147125;645771;30830;35026;1005;266940;343805;',\n",
       " 'Brasil;;;76;;;;2020-06-06;23;210147125;672846;27075;35930;904;277149;359767;',\n",
       " 'Brasil;;;76;;;;2020-06-07;24;210147125;691758;18912;36455;525;283952;371351;',\n",
       " 'Brasil;;;76;;;;2020-06-08;24;210147125;707412;15654;37134;679;290040;380238;',\n",
       " 'Brasil;;;76;;;;2020-06-09;24;210147125;739503;32091;38406;1272;311064;390033;',\n",
       " 'Brasil;;;76;;;;2020-06-10;24;210147125;772416;32913;39680;1274;325395;407341;',\n",
       " 'Brasil;;;76;;;;2020-06-11;24;210147125;802828;30412;40919;1239;345595;416314;',\n",
       " 'Brasil;;;76;;;;2020-06-12;24;210147125;828810;25982;41828;909;365063;421919;',\n",
       " 'Brasil;;;76;;;;2020-06-13;24;210147125;850514;21704;42720;892;379245;428549;',\n",
       " 'Brasil;;;76;;;;2020-06-14;25;210147125;867624;17110;43332;612;388492;435800;',\n",
       " 'Brasil;;;76;;;;2020-06-15;25;210147125;888271;20647;43959;627;412252;432060;',\n",
       " 'Brasil;;;76;;;;2020-06-16;25;210147125;923189;34918;45241;1282;441729;436219;',\n",
       " 'Brasil;;;76;;;;2020-06-17;25;210147125;955377;32188;46510;1269;463474;445393;',\n",
       " 'Brasil;;;76;;;;2020-06-18;25;210147125;978142;22765;47748;1238;482102;448292;',\n",
       " 'Brasil;;;76;;;;2020-06-19;25;210147125;1032913;54771;48954;1206;507200;476759;',\n",
       " 'Brasil;;;76;;;;2020-06-20;25;210147125;1067579;34666;49976;1022;520734;496869;',\n",
       " 'Brasil;;;76;;;;2020-06-21;26;210147125;1085038;17459;50617;641;549386;485035;',\n",
       " 'Brasil;;;76;;;;2020-06-22;26;210147125;1106470;21432;51271;654;571649;483550;',\n",
       " 'Brasil;;;76;;;;2020-06-23;26;210147125;1145906;39436;52645;1374;613345;479916;',\n",
       " 'Brasil;;;76;;;;2020-06-24;26;210147125;1188631;42725;53830;1185;649908;484893;',\n",
       " 'Brasil;;;76;;;;2020-06-25;26;210147125;1228114;39483;54971;1141;673729;499414;',\n",
       " 'Brasil;;;76;;;;2020-06-26;26;210147125;1274974;46860;55961;990;697526;521487;',\n",
       " 'Brasil;;;76;;;;2020-06-27;26;210147125;1313667;38693;57070;1109;715905;540692;',\n",
       " 'Brasil;;;76;;;;2020-06-28;27;210147125;1344143;30476;57622;552;733848;552673;',\n",
       " 'Brasil;;;76;;;;2020-06-29;27;210147125;1368195;24052;58314;692;757462;552419;',\n",
       " 'Brasil;;;76;;;;2020-06-30;27;210147125;1402041;33846;59594;1280;790040;552407;',\n",
       " 'Brasil;;;76;;;;2020-07-01;27;210147125;1448753;46712;60632;1038;826866;561255;',\n",
       " 'Brasil;;;76;;;;2020-07-02;27;210147125;1496858;48105;61884;1252;852816;582158;',\n",
       " 'Brasil;;;76;;;;2020-07-03;27;210147125;1539081;42223;63174;1290;868372;607535;',\n",
       " 'Brasil;;;76;;;;2020-07-04;27;210147125;1577004;37923;64265;1091;876359;636380;',\n",
       " 'Brasil;;;76;;;;2020-07-05;28;210147125;1603055;26051;64867;602;906286;631902;',\n",
       " 'Brasil;;;76;;;;2020-07-06;28;210147125;1623284;20229;65487;620;927292;630505;',\n",
       " 'Brasil;;;76;;;;2020-07-07;28;210147125;1668589;45305;66741;1254;976977;624871;',\n",
       " 'Brasil;;;76;;;;2020-07-08;28;210147125;1713160;44571;67964;1223;1020901;624295;',\n",
       " 'Brasil;;;76;;;;2020-07-09;28;210147125;1755779;42619;69184;1220;1054043;632552;',\n",
       " 'Brasil;;;76;;;;2020-07-10;28;210147125;1800827;45048;70398;1214;1078763;651666;',\n",
       " 'Brasil;;;76;;;;2020-07-11;28;210147125;1839850;39023;71469;1071;1100873;667508;',\n",
       " 'Brasil;;;76;;;;2020-07-12;29;210147125;1864681;24831;72100;631;1123204;669377;',\n",
       " 'Brasil;;;76;;;;2020-07-13;29;210147125;1884967;20286;72833;733;1154837;657297;',\n",
       " 'Brasil;;;76;;;;2020-07-14;29;210147125;1926824;41857;74133;1300;1209208;643483;',\n",
       " 'Brasil;;;76;;;;2020-07-15;29;210147125;1966748;39924;75366;1233;1255564;635818;',\n",
       " 'Brasil;;;76;;;;2020-07-16;29;210147125;2012151;45403;76688;1322;1296328;639135;',\n",
       " 'Brasil;;;76;;;;2020-07-17;29;210147125;2046328;34177;77851;1163;1321036;647441;',\n",
       " 'Brasil;;;76;;;;2020-07-18;29;210147125;2074860;28532;78772;921;1342362;653726;',\n",
       " 'Brasil;;;76;;;;2020-07-19;30;210147125;2098389;23529;79488;716;1371229;647672;',\n",
       " 'Brasil;;;76;;;;2020-07-20;30;210147125;2118646;20257;80120;632;1409202;629324;',\n",
       " 'Brasil;;;76;;;;2020-07-21;30;210147125;2159654;41008;81487;1367;1465970;612197;',\n",
       " 'Brasil;;;76;;;;2020-07-22;30;210147125;2227514;67860;82771;1284;1532138;612605;',\n",
       " 'Brasil;;;76;;;;2020-07-23;30;210147125;2287475;59961;84082;1311;1570237;633156;',\n",
       " 'Brasil;;;76;;;;2020-07-24;30;210147125;2343366;55891;85238;1156;1592281;665847;',\n",
       " 'Brasil;;;76;;;;2020-07-25;30;210147125;2394513;51147;86449;1211;1617480;690584;',\n",
       " 'Brasil;;;76;;;;2020-07-26;31;210147125;2419091;24578;87004;555;1634274;697813;',\n",
       " 'Brasil;;;76;;;;2020-07-27;31;210147125;2442375;23284;87618;614;1667667;687090;',\n",
       " 'Brasil;;;76;;;;2020-07-28;31;210147125;2483191;40816;88539;921;1721560;673092;',\n",
       " 'Brasil;;;76;;;;2020-07-29;31;210147125;2552265;69074;90134;1595;1786753;675378;',\n",
       " 'Brasil;;;76;;;;2020-07-30;31;210147125;2610102;57837;91263;1129;1824095;694744;',\n",
       " 'Brasil;;;76;;;;2020-07-31;31;210147125;2662485;52383;92475;1212;1844051;725959;',\n",
       " 'Norte;RO;;11;;;;2020-02-25;9;1777225;0;0;0;0;;;',\n",
       " 'Norte;RO;;11;;;;2020-02-26;9;1777225;0;0;0;0;;;',\n",
       " 'Norte;RO;;11;;;;2020-02-27;9;1777225;0;0;0;0;;;',\n",
       " 'Norte;RO;;11;;;;2020-02-28;9;1777225;0;0;0;0;;;',\n",
       " 'Norte;RO;;11;;;;2020-02-29;9;1777225;0;0;0;0;;;',\n",
       " 'Norte;RO;;11;;;;2020-03-01;10;1777225;0;0;0;0;;;',\n",
       " 'Norte;RO;;11;;;;2020-03-02;10;1777225;0;0;0;0;;;',\n",
       " 'Norte;RO;;11;;;;2020-03-03;10;1777225;0;0;0;0;;;',\n",
       " 'Norte;RO;;11;;;;2020-03-04;10;1777225;0;0;0;0;;;',\n",
       " 'Norte;RO;;11;;;;2020-03-05;10;1777225;0;0;0;0;;;',\n",
       " 'Norte;RO;;11;;;;2020-03-06;10;1777225;0;0;0;0;;;',\n",
       " 'Norte;RO;;11;;;;2020-03-07;10;1777225;0;0;0;0;;;',\n",
       " 'Norte;RO;;11;;;;2020-03-08;11;1777225;0;0;0;0;;;',\n",
       " 'Norte;RO;;11;;;;2020-03-09;11;1777225;0;0;0;0;;;',\n",
       " 'Norte;RO;;11;;;;2020-03-10;11;1777225;0;0;0;0;;;',\n",
       " 'Norte;RO;;11;;;;2020-03-11;11;1777225;0;0;0;0;;;',\n",
       " 'Norte;RO;;11;;;;2020-03-12;11;1777225;0;0;0;0;;;',\n",
       " 'Norte;RO;;11;;;;2020-03-13;11;1777225;0;0;0;0;;;',\n",
       " 'Norte;RO;;11;;;;2020-03-14;11;1777225;0;0;0;0;;;',\n",
       " 'Norte;RO;;11;;;;2020-03-15;12;1777225;0;0;0;0;;;',\n",
       " 'Norte;RO;;11;;;;2020-03-16;12;1777225;0;0;0;0;;;',\n",
       " 'Norte;RO;;11;;;;2020-03-17;12;1777225;0;0;0;0;;;',\n",
       " 'Norte;RO;;11;;;;2020-03-18;12;1777225;0;0;0;0;;;',\n",
       " 'Norte;RO;;11;;;;2020-03-19;12;1777225;0;0;0;0;;;',\n",
       " 'Norte;RO;;11;;;;2020-03-20;12;1777225;1;1;0;0;;;',\n",
       " 'Norte;RO;;11;;;;2020-03-21;12;1777225;1;0;0;0;;;',\n",
       " 'Norte;RO;;11;;;;2020-03-22;13;1777225;3;2;0;0;;;',\n",
       " 'Norte;RO;;11;;;;2020-03-23;13;1777225;3;0;0;0;;;',\n",
       " 'Norte;RO;;11;;;;2020-03-24;13;1777225;3;0;0;0;;;',\n",
       " 'Norte;RO;;11;;;;2020-03-25;13;1777225;5;2;0;0;;;',\n",
       " 'Norte;RO;;11;;;;2020-03-26;13;1777225;5;0;0;0;;;',\n",
       " 'Norte;RO;;11;;;;2020-03-27;13;1777225;6;1;0;0;;;',\n",
       " 'Norte;RO;;11;;;;2020-03-28;13;1777225;6;0;0;0;;;',\n",
       " 'Norte;RO;;11;;;;2020-03-29;14;1777225;6;0;0;0;;;',\n",
       " 'Norte;RO;;11;;;;2020-03-30;14;1777225;6;0;0;0;;;',\n",
       " 'Norte;RO;;11;;;;2020-03-31;14;1777225;8;2;1;1;;;',\n",
       " 'Norte;RO;;11;;;;2020-04-01;14;1777225;9;1;1;0;;;',\n",
       " 'Norte;RO;;11;;;;2020-04-02;14;1777225;10;1;1;0;;;',\n",
       " 'Norte;RO;;11;;;;2020-04-03;14;1777225;10;0;1;0;;;',\n",
       " 'Norte;RO;;11;;;;2020-04-04;14;1777225;11;1;1;0;;;',\n",
       " 'Norte;RO;;11;;;;2020-04-05;15;1777225;12;1;1;0;;;']"
      ]
     },
     "execution_count": 69,
     "metadata": {},
     "output_type": "execute_result"
    }
   ],
   "source": [
    "#Mostrar as primieras linhas para entender os dados\n",
    "rdd.take(200)"
   ]
  },
  {
   "cell_type": "code",
   "execution_count": 79,
   "metadata": {},
   "outputs": [],
   "source": [
    "'''\n",
    "#Criar um Data Frame com Schema organizado.\n",
    "colunas_painel_covidbr = [ StructField(\"regiao\", StringType()),\n",
    "                          StructField(\"estado\", StringType()),\n",
    "                          StructField(\"municipio\", StringType()),\n",
    "                          StructField(\"coduf\", StringType()),\n",
    "                          StructField(\"codmun\", StringType()),\n",
    "                          StructField(\"codRegiaoSaude\", StringType()),\n",
    "                          StructField(\"nomeRegiaoSaude\", StringType()),\n",
    "                          StructField(\"data\", DateType()),\n",
    "                          StructField(\"semanaEpi\", StringType()),\n",
    "                          StructField(\"populacaoTCU2019\", IntegerType()),\n",
    "                          StructField(\"casosAcumulado\", IntegerType()),\n",
    "                          StructField(\"casosNovos\", IntegerType()),\n",
    "                          StructField(\"obitosAcumulado\", IntegerType()),\n",
    "                          StructField(\"obitosNovos\", IntegerType()),\n",
    "                          StructField(\"Recuperadosnovos\", IntegerType()),\n",
    "                          StructField(\"emAcompanhamentoNovos\", IntegerType()),\n",
    "                          StructField(\"interior/metropolitana\", IntegerType())]\n",
    "\n",
    "schema = StructType(colunas_painel_covidbr)\n",
    "df_painel_covidbr = spark.read.option(\"header\",\"true\").option(\"delimiter\",\";\").csv(\"hdfs:///user/cicero/projeto-final-spark/\")\n",
    "'''\n",
    "\n",
    "#Utilizando o option(\"inferSchema\",\"true\") para que automaticamente o spark identifique os tipos de dados das colunas\n",
    "df_painel_covidbr = spark.read.option(\"sep\",\";\").option(\"header\",\"true\").option(\"inferSchema\",\"true\").csv(\"hdfs:///user/cicero/projeto-final-spark/\")"
   ]
  },
  {
   "cell_type": "code",
   "execution_count": 77,
   "metadata": {},
   "outputs": [
    {
     "name": "stdout",
     "output_type": "stream",
     "text": [
      "root\n",
      " |-- regiao: string (nullable = true)\n",
      " |-- estado: string (nullable = true)\n",
      " |-- municipio: string (nullable = true)\n",
      " |-- coduf: integer (nullable = true)\n",
      " |-- codmun: integer (nullable = true)\n",
      " |-- codRegiaoSaude: integer (nullable = true)\n",
      " |-- nomeRegiaoSaude: string (nullable = true)\n",
      " |-- data: timestamp (nullable = true)\n",
      " |-- semanaEpi: integer (nullable = true)\n",
      " |-- populacaoTCU2019: integer (nullable = true)\n",
      " |-- casosAcumulado: decimal(10,0) (nullable = true)\n",
      " |-- casosNovos: integer (nullable = true)\n",
      " |-- obitosAcumulado: integer (nullable = true)\n",
      " |-- obitosNovos: integer (nullable = true)\n",
      " |-- Recuperadosnovos: integer (nullable = true)\n",
      " |-- emAcompanhamentoNovos: integer (nullable = true)\n",
      " |-- interior/metropolitana: integer (nullable = true)\n",
      "\n"
     ]
    },
    {
     "data": {
      "text/plain": [
       "Row(regiao='Brasil', estado=None, municipio=None, coduf=76, codmun=None, codRegiaoSaude=None, nomeRegiaoSaude=None, data=datetime.datetime(2020, 2, 25, 0, 0), semanaEpi=9, populacaoTCU2019=210147125, casosAcumulado=Decimal('0'), casosNovos=0, obitosAcumulado=0, obitosNovos=0, Recuperadosnovos=None, emAcompanhamentoNovos=None, interior/metropolitana=None)"
      ]
     },
     "execution_count": 77,
     "metadata": {},
     "output_type": "execute_result"
    }
   ],
   "source": [
    "#Visualize o schema\n",
    "df_painel_covidbr.printSchema()\n",
    "df_painel_covidbr.head()"
   ]
  },
  {
   "cell_type": "code",
   "execution_count": 83,
   "metadata": {},
   "outputs": [
    {
     "name": "stdout",
     "output_type": "stream",
     "text": [
      "-RECORD 0-------------------------------------\n",
      " regiao                 | Brasil              \n",
      " estado                 | null                \n",
      " municipio              | null                \n",
      " coduf                  | 76                  \n",
      " codmun                 | null                \n",
      " codRegiaoSaude         | null                \n",
      " nomeRegiaoSaude        | null                \n",
      " data                   | 2020-02-25 00:00:00 \n",
      " semanaEpi              | 9                   \n",
      " populacaoTCU2019       | 210147125           \n",
      " casosAcumulado         | 0                   \n",
      " casosNovos             | 0                   \n",
      " obitosAcumulado        | 0                   \n",
      " obitosNovos            | 0                   \n",
      " Recuperadosnovos       | null                \n",
      " emAcompanhamentoNovos  | null                \n",
      " interior/metropolitana | null                \n",
      "-RECORD 1-------------------------------------\n",
      " regiao                 | Brasil              \n",
      " estado                 | null                \n",
      " municipio              | null                \n",
      " coduf                  | 76                  \n",
      " codmun                 | null                \n",
      " codRegiaoSaude         | null                \n",
      " nomeRegiaoSaude        | null                \n",
      " data                   | 2020-02-26 00:00:00 \n",
      " semanaEpi              | 9                   \n",
      " populacaoTCU2019       | 210147125           \n",
      " casosAcumulado         | 1                   \n",
      " casosNovos             | 1                   \n",
      " obitosAcumulado        | 0                   \n",
      " obitosNovos            | 0                   \n",
      " Recuperadosnovos       | null                \n",
      " emAcompanhamentoNovos  | null                \n",
      " interior/metropolitana | null                \n",
      "-RECORD 2-------------------------------------\n",
      " regiao                 | Brasil              \n",
      " estado                 | null                \n",
      " municipio              | null                \n",
      " coduf                  | 76                  \n",
      " codmun                 | null                \n",
      " codRegiaoSaude         | null                \n",
      " nomeRegiaoSaude        | null                \n",
      " data                   | 2020-02-27 00:00:00 \n",
      " semanaEpi              | 9                   \n",
      " populacaoTCU2019       | 210147125           \n",
      " casosAcumulado         | 1                   \n",
      " casosNovos             | 0                   \n",
      " obitosAcumulado        | 0                   \n",
      " obitosNovos            | 0                   \n",
      " Recuperadosnovos       | null                \n",
      " emAcompanhamentoNovos  | null                \n",
      " interior/metropolitana | null                \n",
      "-RECORD 3-------------------------------------\n",
      " regiao                 | Brasil              \n",
      " estado                 | null                \n",
      " municipio              | null                \n",
      " coduf                  | 76                  \n",
      " codmun                 | null                \n",
      " codRegiaoSaude         | null                \n",
      " nomeRegiaoSaude        | null                \n",
      " data                   | 2020-02-28 00:00:00 \n",
      " semanaEpi              | 9                   \n",
      " populacaoTCU2019       | 210147125           \n",
      " casosAcumulado         | 1                   \n",
      " casosNovos             | 0                   \n",
      " obitosAcumulado        | 0                   \n",
      " obitosNovos            | 0                   \n",
      " Recuperadosnovos       | null                \n",
      " emAcompanhamentoNovos  | null                \n",
      " interior/metropolitana | null                \n",
      "-RECORD 4-------------------------------------\n",
      " regiao                 | Brasil              \n",
      " estado                 | null                \n",
      " municipio              | null                \n",
      " coduf                  | 76                  \n",
      " codmun                 | null                \n",
      " codRegiaoSaude         | null                \n",
      " nomeRegiaoSaude        | null                \n",
      " data                   | 2020-02-29 00:00:00 \n",
      " semanaEpi              | 9                   \n",
      " populacaoTCU2019       | 210147125           \n",
      " casosAcumulado         | 2                   \n",
      " casosNovos             | 1                   \n",
      " obitosAcumulado        | 0                   \n",
      " obitosNovos            | 0                   \n",
      " Recuperadosnovos       | null                \n",
      " emAcompanhamentoNovos  | null                \n",
      " interior/metropolitana | null                \n",
      "only showing top 5 rows\n",
      "\n"
     ]
    }
   ],
   "source": [
    "df_painel_covidbr.show(5, vertical=True)"
   ]
  },
  {
   "cell_type": "code",
   "execution_count": null,
   "metadata": {},
   "outputs": [],
   "source": [
    "#Inserindo os dados no Apache Hive\n"
   ]
  },
  {
   "cell_type": "code",
   "execution_count": null,
   "metadata": {},
   "outputs": [],
   "source": [
    "#Separando os dados por municípios\n"
   ]
  },
  {
   "cell_type": "code",
   "execution_count": null,
   "metadata": {},
   "outputs": [],
   "source": [
    "#Salvando os dados no Hive\n"
   ]
  },
  {
   "cell_type": "markdown",
   "metadata": {},
   "source": [
    "# Criar as 3 visualizações pelo Spark com os dados enviados para o HDFS "
   ]
  },
  {
   "cell_type": "code",
   "execution_count": null,
   "metadata": {},
   "outputs": [],
   "source": []
  },
  {
   "cell_type": "markdown",
   "metadata": {},
   "source": [
    "# Salvar a primeira visualização como tabela Hive"
   ]
  },
  {
   "cell_type": "code",
   "execution_count": null,
   "metadata": {},
   "outputs": [],
   "source": []
  },
  {
   "cell_type": "markdown",
   "metadata": {},
   "source": [
    "# Salvar a segunda visualização com formato parquet e compressão snappy"
   ]
  },
  {
   "cell_type": "code",
   "execution_count": null,
   "metadata": {},
   "outputs": [],
   "source": []
  },
  {
   "cell_type": "markdown",
   "metadata": {},
   "source": [
    "# Salvar a terceira visualização em um tópico no Kafka"
   ]
  },
  {
   "cell_type": "code",
   "execution_count": null,
   "metadata": {},
   "outputs": [],
   "source": []
  },
  {
   "cell_type": "markdown",
   "metadata": {},
   "source": [
    "# Criar a visualização pelo Spark com os dados enviados para o HDFS"
   ]
  },
  {
   "cell_type": "code",
   "execution_count": null,
   "metadata": {},
   "outputs": [],
   "source": []
  }
 ],
 "metadata": {
  "kernelspec": {
   "display_name": "PySpark",
   "language": "python",
   "name": "pyspark"
  },
  "language_info": {
   "codemirror_mode": {
    "name": "ipython",
    "version": 3
   },
   "file_extension": ".py",
   "mimetype": "text/x-python",
   "name": "python",
   "nbconvert_exporter": "python",
   "pygments_lexer": "ipython3",
   "version": "3.6.10"
  }
 },
 "nbformat": 4,
 "nbformat_minor": 2
}
